{
  "nbformat": 4,
  "nbformat_minor": 0,
  "metadata": {
    "colab": {
      "name": "Implementation_DAUA.ipynb",
      "provenance": [],
      "collapsed_sections": [],
      "include_colab_link": true
    },
    "kernelspec": {
      "name": "python3",
      "display_name": "Python 3"
    },
    "language_info": {
      "name": "python"
    },
    "accelerator": "GPU"
  },
  "cells": [
    {
      "cell_type": "markdown",
      "metadata": {
        "id": "view-in-github",
        "colab_type": "text"
      },
      "source": [
        "<a href=\"https://colab.research.google.com/github/vvekraman/Missing-Class-Robust-Domain-Adaptation-by-Unilateral-Alignment/blob/main/Implementation_DAUA.ipynb\" target=\"_parent\"><img src=\"https://colab.research.google.com/assets/colab-badge.svg\" alt=\"Open In Colab\"/></a>"
      ]
    },
    {
      "cell_type": "code",
      "metadata": {
        "id": "Zkfy6RqdEC3k"
      },
      "source": [
        "import tensorflow as tf\n",
        "import matplotlib.pyplot as plt\n",
        "from tensorflow.keras.models import Sequential, Model\n",
        "from tensorflow.keras.layers import Dense, Conv2D, Dropout, Flatten, MaxPooling2D, Input, BatchNormalization\n",
        "import numpy as np\n",
        "import pickle as pkl\n",
        "from tensorflow.keras import backend as K\n",
        "import gzip\n",
        "from numpy import array\n",
        "from numpy import argmax\n",
        "from tensorflow.keras.utils import to_categorical\n",
        "\n",
        "!mkdir -p checkpoints"
      ],
      "execution_count": 1,
      "outputs": []
    },
    {
      "cell_type": "code",
      "metadata": {
        "colab": {
          "base_uri": "https://localhost:8080/"
        },
        "id": "13v7VzhVHZKu",
        "outputId": "e9b1bfb5-71a9-4d22-8af8-384b2b18ec79"
      },
      "source": [
        "# setting dev to GPU\n",
        "sess = tf.compat.v1.Session(config=tf.compat.v1.ConfigProto(log_device_placement=True))"
      ],
      "execution_count": 2,
      "outputs": [
        {
          "output_type": "stream",
          "name": "stdout",
          "text": [
            "Device mapping:\n",
            "/job:localhost/replica:0/task:0/device:GPU:0 -> device: 0, name: Tesla K80, pci bus id: 0000:00:04.0, compute capability: 3.7\n",
            "\n"
          ]
        }
      ]
    },
    {
      "cell_type": "code",
      "metadata": {
        "id": "H9st2Nq7EG3-"
      },
      "source": [
        "# loading MNIST dataset\n",
        "(x_train_MNIST, y_train_MNIST), (x_test_MNIST, y_test_MNIST) = tf.keras.datasets.mnist.load_data()\n",
        "\n",
        "# loading MNIST-M dataset\n",
        "!wget https://github.com/VanushVaswani/keras_mnistm/releases/download/1.0/keras_mnistm.pkl.gz\n",
        "with gzip.open('/content/keras_mnistm.pkl.gz', 'rb') as f:\n",
        "  u = pkl._Unpickler(f)\n",
        "  u.encoding = 'latin1'\n",
        "  mnistm = u.load()\n",
        "\n",
        "# data to train and test\n",
        "x_train_MNISTM, x_test_MNISTM = mnistm[\"train\"], mnistm[\"test\"]"
      ],
      "execution_count": null,
      "outputs": []
    },
    {
      "cell_type": "code",
      "metadata": {
        "colab": {
          "base_uri": "https://localhost:8080/",
          "height": 299
        },
        "id": "3ZlGE_RhEb8c",
        "outputId": "3f88cd99-b7c1-4547-ceb4-b6b228ddba5a"
      },
      "source": [
        "# MNIST plot\n",
        "img_index = 2\n",
        "print(\"The num is: \", y_train_MNIST[img_index])\n",
        "plt.imshow(x_train_MNIST[img_index], cmap='Greys')"
      ],
      "execution_count": 4,
      "outputs": [
        {
          "output_type": "stream",
          "name": "stdout",
          "text": [
            "The num is:  4\n"
          ]
        },
        {
          "output_type": "execute_result",
          "data": {
            "text/plain": [
              "<matplotlib.image.AxesImage at 0x7f94c070d690>"
            ]
          },
          "metadata": {},
          "execution_count": 4
        },
        {
          "output_type": "display_data",
          "data": {
            "image/png": "[encoded data removed]",
            "text/plain": [
              "<Figure size 432x288 with 1 Axes>"
            ]
          },
          "metadata": {
            "needs_background": "light"
          }
        }
      ]
    },
    {
      "cell_type": "code",
      "metadata": {
        "colab": {
          "base_uri": "https://localhost:8080/",
          "height": 282
        },
        "id": "FfA0wr5X79Wr",
        "outputId": "30d70016-1056-4710-8c26-c32b38a4dfed"
      },
      "source": [
        "# MNIST-M plot\n",
        "plt.imshow(mnistm[\"train\"][2], cmap='Greys')"
      ],
      "execution_count": 5,
      "outputs": [
        {
          "output_type": "execute_result",
          "data": {
            "text/plain": [
              "<matplotlib.image.AxesImage at 0x7f94c01ea750>"
            ]
          },
          "metadata": {},
          "execution_count": 5
        },
        {
          "output_type": "display_data",
          "data": {
            "image/png": "[encoded data removed]",
            "text/plain": [
              "<Figure size 432x288 with 1 Axes>"
            ]
          },
          "metadata": {
            "needs_background": "light"
          }
        }
      ]
    },
    {
      "cell_type": "code",
      "metadata": {
        "id": "l4IBnl6AEK0D"
      },
      "source": [
        "# reshaping the array to 4-dims so that it can work with the Keras API\n",
        "x_train_MNIST = x_train_MNIST.reshape(x_train_MNIST.shape[0], 28, 28, 1)\n",
        "x_test_MNIST = x_test_MNIST.reshape(x_test_MNIST.shape[0], 28, 28, 1)\n",
        "x_train_MNISTM = x_train_MNISTM.reshape(x_train_MNISTM.shape[0], 28, 28, 3)\n",
        "x_test_MNISTM = x_test_MNISTM.reshape(x_test_MNISTM.shape[0], 28, 28, 3)\n",
        "\n",
        "# making sure that the values are float so that we can get decimal points after division\n",
        "x_train_MNIST = x_train_MNIST.astype('float32')\n",
        "x_test_MNIST = x_test_MNIST.astype('float32')\n",
        "x_train_MNISTM = x_train_MNISTM.astype('float32')\n",
        "x_test_MNISTM = x_test_MNISTM.astype('float32')\n",
        "\n",
        "# normalizing the RGB codes by dividing it to the max RGB value.\n",
        "x_train_MNIST /= 255\n",
        "x_test_MNIST /= 255\n",
        "x_train_MNISTM /= 255\n",
        "x_test_MNISTM /= 255\n",
        "\n",
        "print('x_train_MNIST shape:', x_train_MNIST.shape)\n",
        "print('Number of images in x_train_MNIST', x_train_MNIST.shape[0])\n",
        "print('Number of images in x_test_MNIST', x_test_MNIST.shape[0])\n",
        "\n",
        "print('x_train_MNISTM shape:', x_train_MNISTM.shape)\n",
        "print('Number of images in x_train_MNISTM', x_train_MNISTM.shape[0])\n",
        "print('Number of images in x_test_MNISTM', x_test_MNISTM.shape[0])"
      ],
      "execution_count": null,
      "outputs": []
    },
    {
      "cell_type": "code",
      "metadata": {
        "id": "zw3SWvwjMts4"
      },
      "source": [
        "# changing MNIST 1 ch to 3 ch\n",
        "x_train_MNIST = tf.image.grayscale_to_rgb(tf.expand_dims(x_train_MNIST, axis=0)[0]).numpy()\n",
        "x_test_MNIST = tf.image.grayscale_to_rgb(tf.expand_dims(x_test_MNIST, axis=0)[0]).numpy()"
      ],
      "execution_count": 7,
      "outputs": []
    },
    {
      "cell_type": "code",
      "metadata": {
        "id": "lwTFSpk2wZtT"
      },
      "source": [
        "# removing classes of MNIST-M\n",
        "def remove_class(class_no, x1, y):\n",
        "  img_indx = []\n",
        "\n",
        "  for indx, l in enumerate(y):\n",
        "    if l in class_no:\n",
        "      img_indx.append(indx)\n",
        "\n",
        "  y = np.delete(y, img_indx)\n",
        "  x1 = np.delete(x1, img_indx, axis=0)\n",
        "  return y, x1\n",
        "\n",
        "# removing classes specified in list class_no\n",
        "#_, x_train_MNISTM = remove_class(class_no=[8,9], x1=x_train_MNISTM, y=y_train_MNIST)  # 2 missing classes - (2/10)\n",
        "#_, x_train_MNISTM = remove_class(class_no=[2,3,4,5,6,7,8,9], x1=x_train_MNISTM, y=y_train_MNIST) # 8 missing classes - (8/10)\n",
        "\n",
        "print(\"length of y_train_MNIST:\", len(y_train_MNIST), \"\\nlength of x_train_MNIST:\", len(x_train_MNIST), \"\\nlength of x_train_MNISTM:\", len(x_train_MNISTM))"
      ],
      "execution_count": null,
      "outputs": []
    },
    {
      "cell_type": "code",
      "metadata": {
        "id": "TvmsDIWq_xSQ"
      },
      "source": [
        "# def input shape\n",
        "input_shape = (28, 28, 3)"
      ],
      "execution_count": 9,
      "outputs": []
    },
    {
      "cell_type": "code",
      "metadata": {
        "id": "u5zfadLr-6tq"
      },
      "source": [
        "#model s1\n",
        "def net_s1():\n",
        "  seq = Sequential()\n",
        "  seq.add(Conv2D(28, kernel_size=(3,3),name='conv_1', input_shape= input_shape))\n",
        "  seq.add(MaxPooling2D(pool_size=(2, 2)))\n",
        "\n",
        "  seq.add(Flatten())\n",
        "  \n",
        "  seq.add(Dense(128, activation=tf.nn.relu))\n",
        "  seq.add(Dropout(0.2))\n",
        "  seq.add(Dense(10,activation=tf.nn.softmax))\n",
        "  return seq"
      ],
      "execution_count": 10,
      "outputs": []
    },
    {
      "cell_type": "code",
      "metadata": {
        "id": "IqZ4DvpGADwR"
      },
      "source": [
        "# compiling and fitting the s1 model\n",
        "model_s1 = net_s1()\n",
        "model_s1.compile(optimizer='adam', loss='sparse_categorical_crossentropy', metrics=['accuracy'])\n",
        "model_s1.fit(x=x_train_MNIST,y=y_train_MNIST, epochs=10)"
      ],
      "execution_count": null,
      "outputs": []
    },
    {
      "cell_type": "code",
      "metadata": {
        "id": "8xzC_ASxG41E"
      },
      "source": [
        "# # Testing the model\n",
        "model_s1.evaluate(x_test_MNIST, y_test_MNIST)"
      ],
      "execution_count": null,
      "outputs": []
    },
    {
      "cell_type": "code",
      "metadata": {
        "id": "4RdVo_8FHJ8g"
      },
      "source": [
        "# Predicting\n",
        "img_index = 4422\n",
        "plt.imshow(x_test_MNIST[img_index],cmap='Greys')\n",
        "pred = model_s1.predict(tf.reshape(x_test_MNIST[img_index], [1,28,28,3]))\n",
        "print(pred.argmax())"
      ],
      "execution_count": null,
      "outputs": []
    },
    {
      "cell_type": "markdown",
      "metadata": {
        "id": "qF8h5w4LfCn4"
      },
      "source": [
        "**STAGE 2**"
      ]
    },
    {
      "cell_type": "code",
      "metadata": {
        "id": "Gvy8iSfIADl_",
        "colab": {
          "base_uri": "https://localhost:8080/"
        },
        "outputId": "cd5cd995-5fa2-4fd5-f038-12358b54adea"
      },
      "source": [
        "# pre-trained model with classifier removed\n",
        "model_s1_FExt = Model(model_s1.input, model_s1.layers[-4].output)\n",
        "model_s1_FExt.summary()"
      ],
      "execution_count": 14,
      "outputs": [
        {
          "output_type": "stream",
          "name": "stdout",
          "text": [
            "Model: \"model\"\n",
            "_________________________________________________________________\n",
            "Layer (type)                 Output Shape              Param #   \n",
            "=================================================================\n",
            "conv_1_input (InputLayer)    [(None, 28, 28, 3)]       0         \n",
            "_________________________________________________________________\n",
            "conv_1 (Conv2D)              (None, 26, 26, 28)        784       \n",
            "_________________________________________________________________\n",
            "max_pooling2d (MaxPooling2D) (None, 13, 13, 28)        0         \n",
            "_________________________________________________________________\n",
            "flatten (Flatten)            (None, 4732)              0         \n",
            "=================================================================\n",
            "Total params: 784\n",
            "Trainable params: 784\n",
            "Non-trainable params: 0\n",
            "_________________________________________________________________\n"
          ]
        }
      ]
    },
    {
      "cell_type": "code",
      "metadata": {
        "id": "q52wlfWlhc87"
      },
      "source": [
        "# defining a custom gradient\n",
        "@tf.custom_gradient\n",
        "def grad_reverse(x):\n",
        "  y = tf.identity(x)\n",
        "  def custom_grad(dy):\n",
        "    return -dy\n",
        "  return y, custom_grad"
      ],
      "execution_count": 15,
      "outputs": []
    },
    {
      "cell_type": "code",
      "metadata": {
        "id": "XKGdBZ9HgoiL"
      },
      "source": [
        "# GRL\n",
        "class GradReverse(tf.keras.layers.Layer):\n",
        "    def __init__(self):\n",
        "        super().__init__()\n",
        "\n",
        "    def call(self, x):\n",
        "        return grad_reverse(x)\n",
        "\n",
        "flip_grad = GradReverse()"
      ],
      "execution_count": 16,
      "outputs": []
    },
    {
      "cell_type": "code",
      "metadata": {
        "id": "ytg0uGioADZ4"
      },
      "source": [
        "# STAGE 2\n",
        "\n",
        "def net_s2(input_shape):\n",
        "\n",
        "  inp = Input(input_shape)\n",
        "  x = Conv2D(28, kernel_size=(3,3),name='conv_1')(inp)\n",
        "  x = MaxPooling2D(pool_size=(2, 2))(x)\n",
        "\n",
        "  features_s2 = Flatten()(x)\n",
        "\n",
        "  # classifier\n",
        "  out = Dense(128, activation=tf.nn.relu)(features_s2)\n",
        "  out = Dropout(0.2)(out)\n",
        "  out_classf = Dense(10)(out)\n",
        "\n",
        "  # discriminator\n",
        "  flipg = flip_grad(features_s2)\n",
        "  dom = Dense(500, activation=tf.nn.relu)(flipg)  #flip_gradient(features_s2)\n",
        "  dom = Dropout(0.2)(dom)\n",
        "  out_disc = Dense(2)(dom)\n",
        "\n",
        "  model_s2 = Model(inp, [out_classf, out_disc])\n",
        "\n",
        "  return model_s2"
      ],
      "execution_count": 17,
      "outputs": []
    },
    {
      "cell_type": "code",
      "metadata": {
        "id": "cX9DwGZEbjtI",
        "colab": {
          "base_uri": "https://localhost:8080/",
          "height": 865
        },
        "outputId": "10f2354a-945a-4345-8f1a-57cd1c4cbdd2"
      },
      "source": [
        "# STAGE 2 model\n",
        "model_s2 = net_s2(input_shape)\n",
        "optimizer = tf.keras.optimizers.Adam(learning_rate=0.001)\n",
        "#optimizer = tf.keras.optimizers.SGD(learning_rate=0.001, momentum=0.9)\n",
        "\n",
        "# plot model\n",
        "from keras.utils.vis_utils import plot_model\n",
        "plot_model(model_s2, to_file='model.png', show_shapes=True, show_layer_names=True, rankdir='TB', expand_nested=True, dpi=96)"
      ],
      "execution_count": 40,
      "outputs": [
        {
          "output_type": "execute_result",
          "data": {
            "image/png": "[encoded data removed]",
            "text/plain": [
              "<IPython.core.display.Image object>"
            ]
          },
          "metadata": {},
          "execution_count": 40
        }
      ]
    },
    {
      "cell_type": "code",
      "metadata": {
        "id": "XpkMKXo80_wv"
      },
      "source": [
        "# batch generator\n",
        "def shuffle_aligned_list(data):\n",
        "    num = data[0].shape[0]\n",
        "    p = np.random.permutation(num)\n",
        "    return [d[p] for d in data]\n",
        "\n",
        "\n",
        "def batch_generator(data, batch_size, shuffle=True):\n",
        "    if shuffle:\n",
        "        data = shuffle_aligned_list(data)\n",
        "\n",
        "    batch_count = 0\n",
        "    while True:\n",
        "        if batch_count * batch_size + batch_size >= len(data[0]):\n",
        "            batch_count = 0\n",
        "\n",
        "            if shuffle:\n",
        "                data = shuffle_aligned_list(data)\n",
        "\n",
        "        start = batch_count * batch_size\n",
        "        end = start + batch_size\n",
        "        batch_count += 1\n",
        "        yield [d[start:end] for d in data]"
      ],
      "execution_count": 19,
      "outputs": []
    },
    {
      "cell_type": "code",
      "metadata": {
        "id": "yITNaGEP2V1B"
      },
      "source": [
        "# one hot encoding\n",
        "dat_tr = array(y_train_MNIST)\n",
        "y_train_MNIST_enco = to_categorical(dat_tr)\n",
        "\n",
        "dat_test = array(y_test_MNIST)\n",
        "y_test_MNIST_enco = to_categorical(dat_test)\n",
        "\n",
        "\n",
        "# batch generators\n",
        "batch_size = 64\n",
        "\n",
        "mnist_full = batch_generator([x_train_MNIST, y_train_MNIST_enco], batch_size=batch_size)\n",
        "\n",
        "mnist_half = batch_generator([x_train_MNIST, y_train_MNIST_enco], batch_size=batch_size // 2)\n",
        "mnistm_half = batch_generator([x_train_MNISTM, y_train_MNIST_enco], batch_size=batch_size // 2)\n",
        "\n",
        "mnistm_test = batch_generator([x_test_MNISTM, y_test_MNIST_enco], batch_size=1, shuffle=False)"
      ],
      "execution_count": 20,
      "outputs": []
    },
    {
      "cell_type": "code",
      "metadata": {
        "id": "4yYGpj0IC0e9"
      },
      "source": [
        "# training Loop\n",
        "val_loss = []\n",
        "old_val_acc = 0\n",
        "\n",
        "plot_val_loss = []\n",
        "plot_tr_loss = []\n",
        "\n",
        "cat_tr_acc = tf.metrics.CategoricalAccuracy()\n",
        "cat_val_acc = tf.metrics.CategoricalAccuracy()\n",
        "\n",
        "progbar = tf.keras.utils.Progbar(len(x_train_MNIST)//batch_size+1)\n",
        "\n",
        "epochs = 50\n",
        "\n",
        "for epoch in range(epochs):\n",
        "  # training performance metrics init\n",
        "  tr_accu =[]\n",
        "  tr_loss = [] \n",
        "\n",
        "  print(\"\\nStart of epoch %d\" % (epoch+1,))\n",
        "\n",
        "  # iterate over the batches of the dataset.\n",
        "  for step, ((img_mnist_f, label_mnist_f), (img_mnist_h,_), (img_mnistm_h,_)) in enumerate(zip(mnist_full, mnist_half, mnistm_half)):\n",
        "    with tf.GradientTape() as tape:\n",
        "\n",
        "      out_classf,_ = model_s2(img_mnist_f, training=True)\n",
        "      loss_clf = tf.nn.softmax_cross_entropy_with_logits(labels=label_mnist_f, logits=out_classf)\n",
        "    \n",
        "      model_s2_FExt = Model(model_s2.input, model_s2.layers[3].output)\n",
        "      feat_s2 = model_s2_FExt(img_mnist_f, training=False)\n",
        "      feat_s1 = model_s1_FExt(img_mnist_f, training=False)\n",
        "      loss_cons = np.sum(np.abs((feat_s1-feat_s2)), axis=1)/len(feat_s1[0])\n",
        "\n",
        "      img_pair = tf.concat([[img_mnist_h],[img_mnistm_h]], 1)[0]\n",
        "      dom_lbl = np.vstack(([[1.,0.]]*(batch_size//2), [[0.,1.]]*(batch_size//2)))\n",
        "      _,out_disc = model_s2(img_pair, training=True)\n",
        "      loss_d = tf.nn.softmax_cross_entropy_with_logits(labels=dom_lbl, logits=out_disc)\n",
        "\n",
        "      l = 1 #lambda (regularisation term for the consistency loss)\n",
        "      loss_value = loss_clf + loss_d + l*loss_cons  # total loss\n",
        "\n",
        "    grads = tape.gradient(loss_value, model_s2.trainable_weights)\n",
        "    optimizer.apply_gradients(zip(grads, model_s2.trainable_weights))\n",
        "\n",
        "    # update training metric.\n",
        "    tr_accu.append(cat_tr_acc(label_mnist_f, tf.nn.softmax(out_classf)))\n",
        "\n",
        "    # update training loss\n",
        "    tr_loss.append(np.average(loss_value))\n",
        "\n",
        "    progbar.update(step+1)  #updates prog bar\n",
        "\n",
        "    # breaks loop after all the batches pass\n",
        "    if step == (60000//batch_size):\n",
        "      break\n",
        "\n",
        "  # validation\n",
        "  val_lbls=[]\n",
        "  val_output=[]\n",
        "  val_loss=[]\n",
        "  for i, (imgs, labels) in enumerate(mnistm_test):\n",
        "    # index (0->1999) taken for validation on the run\n",
        "    if i==2000:\n",
        "      break\n",
        "    out,_ = model_s2(imgs, training=False)\n",
        "    val_loss.append(tf.nn.softmax_cross_entropy_with_logits(labels=labels, logits=out))\n",
        "    val_lbls.append(tf.constant(labels)[0])\n",
        "    val_output.append(out[0])\n",
        "  val_accu = cat_val_acc(val_lbls, tf.nn.softmax(val_output))\n",
        "\n",
        "  # saving the best checkpoint\n",
        "  if val_accu.numpy() > old_val_acc:\n",
        "    model_s2.save_weights(\"/content/checkpoints/checkpoint-\" + str(epoch) + \".ckpt\")\n",
        "    old_val_acc = val_accu.numpy()\n",
        "    print(\"Checkpoint saved!\")\n",
        "\n",
        "  # Display metrics at the end of each epoch.\n",
        "  print(\"\\nStats:\", \n",
        "        \"\\nTraining accuracy:\", np.average(tr_accu), \n",
        "        \"\\nTraining loss:\", np.average(tr_loss),\n",
        "        \"\\nValidation accuracy:\",val_accu.numpy() ,\n",
        "        \"\\nValidation loss:\", np.average(val_loss))\n",
        "\n",
        "  # saving val & tr loss for plotting\n",
        "  plot_val_loss.append(np.average(val_loss))\n",
        "  plot_tr_loss.append(np.average(tr_loss))"
      ],
      "execution_count": null,
      "outputs": []
    },
    {
      "cell_type": "code",
      "metadata": {
        "id": "FTxNbNpR4_gm"
      },
      "source": [
        "#loading saved models\n",
        "#model_s2 = net_s2(input_shape)\n",
        "#model_s2.load_weights(\"/content/checkpoints/checkpoint-40.ckpt\")"
      ],
      "execution_count": null,
      "outputs": []
    },
    {
      "cell_type": "code",
      "metadata": {
        "id": "ezBad0NECDau"
      },
      "source": [
        "# testing\n",
        "val_lbls=[]\n",
        "val_output=[]\n",
        "\n",
        "for i, (imgs, labels) in enumerate(mnistm_test):\n",
        "  if i==10000:\n",
        "    break\n",
        "  out,_ = model_s2(imgs, training=False)\n",
        "  val_lbls.append(tf.constant(labels)[0])\n",
        "  val_output.append(tf.nn.softmax(out[0]))    \n",
        "\n",
        "# test accuracy\n",
        "cat_acc_test = tf.metrics.CategoricalAccuracy()\n",
        "val_accu = cat_acc_test(val_lbls, val_output)\n",
        "\n",
        "print(\"Test accuracy:\", val_accu.numpy())"
      ],
      "execution_count": null,
      "outputs": []
    },
    {
      "cell_type": "code",
      "metadata": {
        "id": "HbcfyD-ZMq18"
      },
      "source": [
        "# plot\n",
        "plt.plot(np.arange(1, len(plot_val_loss)+1),plot_val_loss, label=\"val_loss\")\n",
        "plt.plot(np.arange(1, len(plot_tr_loss)+1),plot_tr_loss, label=\"tr_loss\")\n",
        "plt.xlabel('epochs')\n",
        "plt.ylabel('loss')\n",
        "plt.legend()\n",
        "plt.show()"
      ],
      "execution_count": null,
      "outputs": []
    }
  ]
}
